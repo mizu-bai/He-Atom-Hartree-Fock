{
 "cells": [
  {
   "cell_type": "code",
   "execution_count": 1,
   "metadata": {},
   "outputs": [],
   "source": [
    "using LinearAlgebra\n",
    "using Printf"
   ]
  },
  {
   "cell_type": "markdown",
   "metadata": {},
   "source": [
    "# Example\n",
    "\n",
    "Do an SCF calculation for the helium-atom ground state using a basis set of two $1s$ STOs with obital exponents $\\zeta_1 = 1.45$ and $\\zeta_2 = 2.91$."
   ]
  },
  {
   "cell_type": "markdown",
   "metadata": {},
   "source": [
    "$\\chi_i = 2 \\zeta_i^{\\frac{3}{2}} \\exp [-\\zeta_i r] Y_0^0$"
   ]
  },
  {
   "cell_type": "code",
   "execution_count": 2,
   "metadata": {},
   "outputs": [
    {
     "data": {
      "text/plain": [
       "2-element Vector{Float64}:\n",
       " 1.45\n",
       " 2.91"
      ]
     },
     "metadata": {},
     "output_type": "display_data"
    }
   ],
   "source": [
    "ζ = [1.45, 2.91]"
   ]
  },
  {
   "cell_type": "markdown",
   "metadata": {},
   "source": [
    "Overlap integrals $S_{rs}$"
   ]
  },
  {
   "cell_type": "code",
   "execution_count": 3,
   "metadata": {},
   "outputs": [
    {
     "data": {
      "text/plain": [
       "2×2 Matrix{Float64}:\n",
       " 1.0       0.836608\n",
       " 0.836608  1.0"
      ]
     },
     "metadata": {},
     "output_type": "display_data"
    }
   ],
   "source": [
    "S = zeros(2, 2)\n",
    "\n",
    "for r in 1: 2\n",
    "    for s in 1: 2\n",
    "        if r == s\n",
    "            # S_11, S_22\n",
    "            S[r, s] = 1\n",
    "        else\n",
    "            # S_12, S_21\n",
    "            S[r, s] = 8 * ζ[1]^(3/2) * ζ[2]^(3/2) / (ζ[1] + ζ[2])^3\n",
    "        end\n",
    "    end\n",
    "end\n",
    "\n",
    "S"
   ]
  },
  {
   "cell_type": "markdown",
   "metadata": {},
   "source": [
    "$$\n",
    "\\hat{H}^{\\mathrm{core}} = -\\frac{1}{2}\\nabla^2 - \\frac{2}{r} = - \\frac{1}{2} \\nabla^2 - \\frac{\\zeta}{r} + \\frac{\\zeta - 2}{r}\n",
    "$$"
   ]
  },
  {
   "cell_type": "code",
   "execution_count": 4,
   "metadata": {},
   "outputs": [
    {
     "data": {
      "text/plain": [
       "2×2 Matrix{Float64}:\n",
       " -1.84875  -1.88258\n",
       " -1.88258  -1.58595"
      ]
     },
     "metadata": {},
     "output_type": "display_data"
    }
   ],
   "source": [
    "H_core = zeros(2, 2)\n",
    "\n",
    "for r in 1: 2\n",
    "    for s in 1: 2\n",
    "        if r == s\n",
    "            # H_11, H_22\n",
    "            H_core[r, s] = 1/2 * ζ[r]^2 - 2 * ζ[r]\n",
    "        else\n",
    "            # H_12, H_21\n",
    "            H_core[r, s] = ζ[1]^(3/2) * ζ[2]^(3/2) * (4 * ζ[1] * ζ[2] - 8 * ζ[1] - 8 * ζ[2]) / (ζ[1] + ζ[2])^3\n",
    "        end\n",
    "    end\n",
    "end\n",
    "\n",
    "H_core"
   ]
  },
  {
   "cell_type": "markdown",
   "metadata": {},
   "source": [
    "Electron-repulsion integrals $\\left( rs | tu \\right)$"
   ]
  },
  {
   "cell_type": "code",
   "execution_count": 5,
   "metadata": {},
   "outputs": [
    {
     "data": {
      "text/plain": [
       "2×2×2×2 Array{Float64, 4}:\n",
       "[:, :, 1, 1] =\n",
       " 0.90625   0.903281\n",
       " 0.903281  1.18259\n",
       "\n",
       "[:, :, 2, 1] =\n",
       " 0.903281  0.953631\n",
       " 0.953631  1.298\n",
       "\n",
       "[:, :, 1, 2] =\n",
       " 0.903281  0.953631\n",
       " 0.953631  1.298\n",
       "\n",
       "[:, :, 2, 2] =\n",
       " 1.18259  1.298\n",
       " 1.298    1.81875"
      ]
     },
     "metadata": {},
     "output_type": "display_data"
    }
   ],
   "source": [
    "R = zeros(2, 2, 2, 2)\n",
    "\n",
    "for r in 1: 2\n",
    "    for s in 1: 2\n",
    "        for t in 1: 2\n",
    "            for u in 1:2\n",
    "                if r == s == t == u\n",
    "                    # (11|11), (22|22)\n",
    "                    R[r, s, t, u] = 5/8 * ζ[r]\n",
    "                elseif r == s && t == u && r != t\n",
    "                    # (11|22), (22|11)\n",
    "                    R[r, s, t, u] = (ζ[1]^4 * ζ[2] + 4 * ζ[1]^3 * ζ[2]^2 + ζ[1] * ζ[2]^4 + 4 * ζ[1]^2 * ζ[2]^3) / (ζ[1] + ζ[2])^4\n",
    "                elseif r + s == t + u\n",
    "                    # (12|12), (21|12), (12|21), (21|21)\n",
    "                    R[r, s, t, u] = 20 * ζ[1]^3 * ζ[2]^3 / (ζ[1] + ζ[2])^5\n",
    "                else\n",
    "                    if sum([r, s, t, u] .== 1) == 3\n",
    "                        # (11|12), (11|21), (12|11), (21|11)\n",
    "                        i = 1\n",
    "                        j = 2\n",
    "                    else\n",
    "                        # (12|22), (22|12), (21|22), (22|21)\n",
    "                        i = 2\n",
    "                        j = 1\n",
    "                    end\n",
    "                    R[r, s, t, u] = 16 * ζ[i]^(9/2) * ζ[j]^(3/2) / (3 * ζ[i] + ζ[j])^4 * ((12 * ζ[i] + 8 * ζ[j]) / (ζ[i] + ζ[j])^2 + (9 * ζ[i] + ζ[j]) / (2 * ζ[i]^2))\n",
    "                end\n",
    "            end\n",
    "        end\n",
    "    end\n",
    "end\n",
    "\n",
    "R"
   ]
  },
  {
   "cell_type": "markdown",
   "metadata": {},
   "source": [
    "Expand the spatial orbitals $\\phi_i$ as linear combinations of a set of one-electron basis functions $\\chi_s$:\n",
    "\n",
    "$$\n",
    "\\phi_i = \\sum_{s = 1}^b c_{si} \\chi_s\n",
    "$$\n",
    "\n",
    "If $b$ is large enough and the functions $\\chi_s$ well chosen, one can represent the MOs with negligible error.\n",
    "\n",
    "For exmaple, when $b = 2$\n",
    "\n",
    "$$\n",
    "\\phi_1 = c_{11} \\chi_1 + c_{21} \\chi_2\n",
    "$$\n",
    "\n",
    "Take an initial guess\n",
    "\n",
    "$$\n",
    "\\frac{c_{11}}{c_{12}} = 2\n",
    "$$\n",
    "\n",
    "The normalization condition\n",
    "\n",
    "$$\n",
    "\\int {\\left| \\phi_1 \\right|}^2 \\mathrm{d} \\tau = 1\n",
    "$$\n",
    "\n",
    "gives for the real coefficients\n",
    "\n",
    "$$\n",
    "c_{21} = (1 + k^2 + 2k S_{12})^{-\\frac{1}{2}}\n",
    "$$\n",
    "\n",
    "where\n",
    "\n",
    "$$\n",
    "k = \\frac{c_{11}}{c_{21}}\n",
    "$$"
   ]
  },
  {
   "cell_type": "code",
   "execution_count": 6,
   "metadata": {},
   "outputs": [
    {
     "data": {
      "text/plain": [
       "2×2 Matrix{Float64}:\n",
       " 0.692276  0.0\n",
       " 0.346138  0.0"
      ]
     },
     "metadata": {},
     "output_type": "display_data"
    }
   ],
   "source": [
    "k = 2\n",
    "C = zeros(2, 2)\n",
    "C[2, 1] = (1 + k^2 + 2 * k * S[1, 2])^(-1/2)\n",
    "C[1, 1] = k * C[2, 1]\n",
    "\n",
    "C"
   ]
  },
  {
   "cell_type": "markdown",
   "metadata": {},
   "source": [
    "Density matrix\n",
    "\n",
    "$$\n",
    "P_{tu} = 2 \\sum_{j = 1}^{n/2} c_{tj}^* c_{uj} \\\\\n",
    "t = 1, 2, \\cdots, b \\\\\n",
    "u = 1, 2, \\cdots, b\n",
    "$$"
   ]
  },
  {
   "cell_type": "code",
   "execution_count": 7,
   "metadata": {},
   "outputs": [
    {
     "data": {
      "text/plain": [
       "2×2 Matrix{Float64}:\n",
       " 0.958493  0.479247\n",
       " 0.479247  0.239623"
      ]
     },
     "metadata": {},
     "output_type": "display_data"
    }
   ],
   "source": [
    "P = zeros(2, 2)\n",
    "\n",
    "for t in 1: 2\n",
    "    for u in 1: 2\n",
    "        for j in 1: Int64(2/2)\n",
    "            P[t, u] += C[t, j] * C[u, j]\n",
    "        end\n",
    "        P[t, u] *= 2\n",
    "    end\n",
    "end\n",
    "\n",
    "P"
   ]
  },
  {
   "cell_type": "markdown",
   "metadata": {},
   "source": [
    "$$\n",
    "F_{rs} = H_{rs}^{\\text{core}} + \\sum_{t = 1}^{b} \\sum_{u = 1}^{b} P_{tu}\\left[\\left(rs|tu\\right) - \\frac{1}{2}\\left(ru|ts\\right)\\right]\n",
    "$$"
   ]
  },
  {
   "cell_type": "code",
   "execution_count": 8,
   "metadata": {},
   "outputs": [
    {
     "data": {
      "text/plain": [
       "2×2 Matrix{Float64}:\n",
       " -0.812418  -0.892007\n",
       " -0.892007  -0.0695028"
      ]
     },
     "metadata": {},
     "output_type": "display_data"
    }
   ],
   "source": [
    "F = zeros(2, 2)\n",
    "\n",
    "for r in 1: 2\n",
    "    for s in 1: 2\n",
    "        F[r, s] = H_core[r, s]\n",
    "        for t in 1: 2\n",
    "            for u in 1: 2\n",
    "                F[r, s] += P[t, u] * (R[r, s, t, u] - 1/2 * R[r, u, t, s])\n",
    "            end\n",
    "        end\n",
    "    end\n",
    "end\n",
    "\n",
    "F"
   ]
  },
  {
   "cell_type": "markdown",
   "metadata": {},
   "source": [
    "Matrix Form of the Roothaan Equations\n",
    "\n",
    "$$\n",
    "\\sum_{s=1}^b F_{rs}c_{si} = \\sum_{s=1}^{b}S_{rs}c_{si}\\varepsilon_{i} \\quad r = 1, 2, \\cdots, b\n",
    "$$\n",
    "\n",
    "$$\n",
    "\\mathbf{FC= SC\\varepsilon}\n",
    "$$\n",
    "\n",
    "$$\n",
    "\\mathbf{F^\\prime C^\\prime = C^\\prime \\varepsilon}\n",
    "$$\n",
    "\n",
    "$$\n",
    "\\mathbf{A = S^\\frac{1}{2}}\n",
    "$$\n",
    "\n",
    "$$\n",
    "\\mathbf{F^\\prime = A^{\\dag} F A}\n",
    "$$\n",
    "\n",
    "$$\n",
    "\\mathbf{C = A C^\\prime}\n",
    "$$\n",
    "\n",
    "$$\n",
    "\\mathbf{P = 2  C_{occ} C_{occ}^\\dag}\n",
    "$$"
   ]
  },
  {
   "cell_type": "code",
   "execution_count": 11,
   "metadata": {},
   "outputs": [
    {
     "data": {
      "text/plain": [
       "State"
      ]
     },
     "metadata": {},
     "output_type": "display_data"
    }
   ],
   "source": [
    "mutable struct State\n",
    "    S::Matrix{Float64}      # Overlap Integral\n",
    "    H_core::Matrix{Float64} # Core Hamilton\n",
    "    R::Array{Float64, 4}    # Two-electron Integral\n",
    "    C::Matrix{Float64}      # MO Ceofficient\n",
    "    P::Matrix{Float64}      # Densitry\n",
    "    F::Matrix{Float64}      # Fock\n",
    "    ε::Array{Float64}       # MO Energy\n",
    "end\n",
    "\n",
    "function State(; S::Matrix{Float64}, H_core::Matrix{Float64}, R::Array{Float64, 4}, P::Matrix{Float64})\n",
    "    state = State(\n",
    "        S,\n",
    "        H_core,\n",
    "        R,\n",
    "        zeros(2, 2),\n",
    "        P,\n",
    "        zeros(2, 2),\n",
    "        zeros(2)\n",
    "    )\n",
    "end"
   ]
  },
  {
   "cell_type": "code",
   "execution_count": 12,
   "metadata": {},
   "outputs": [
    {
     "data": {
      "text/plain": [
       "update! (generic function with 1 method)"
      ]
     },
     "metadata": {},
     "output_type": "display_data"
    }
   ],
   "source": [
    "function update!(state::State)\n",
    "    # Calculate Fock matrix F using H_core, P, & R\n",
    "    for r in 1: 2\n",
    "        for s in 1: 2\n",
    "            state.F[r, s] = state.H_core[r, s]\n",
    "            for t in 1: 2\n",
    "                for u in 1: 2\n",
    "                    state.F[r, s] += state.P[t, u] * (state.R[r, s, t, u] - 1/2 * state.R[r, u, t, s])\n",
    "                end\n",
    "            end\n",
    "        end\n",
    "    end\n",
    "\n",
    "    # calculate the A matrix using the overlap integrals S_rs\n",
    "    A = state.S^(-1/2)\n",
    "\n",
    "    # calculate the matrix F′\n",
    "    F′ = A' * state.F * A\n",
    "\n",
    "    # sovle F′C′ = C′ε\n",
    "    state.ε, C′ = eigen(F′)\n",
    "    \n",
    "    # calculate C\n",
    "    state.C = A * C′\n",
    "\n",
    "    # update P\n",
    "    state.P = 2 * state.C[:, 1] * state.C[:, 1]'\n",
    "end"
   ]
  },
  {
   "cell_type": "code",
   "execution_count": 13,
   "metadata": {},
   "outputs": [
    {
     "data": {
      "text/plain": [
       "energy (generic function with 1 method)"
      ]
     },
     "metadata": {},
     "output_type": "display_data"
    }
   ],
   "source": [
    "function energy(state::State)\n",
    "    E_HF = 0.0\n",
    "    for r in 1: 2\n",
    "        for s in 1: 2\n",
    "            E_HF += state.P[r, s] * (state.F[r, s] + state.H_core[r, s])\n",
    "        end\n",
    "    end\n",
    "    E_HF = E_HF * 0.5\n",
    "end"
   ]
  },
  {
   "cell_type": "code",
   "execution_count": 20,
   "metadata": {},
   "outputs": [
    {
     "name": "stdout",
     "output_type": "stream",
     "text": [
      "E_new = -2.79900671  E_old = -1.97824155  ΔE = -8.20765e-01\n",
      "E_new = -2.85908995  E_old = -2.79900671  ΔE = -6.00832e-02\n",
      "E_new = -2.86154402  E_old = -2.85908995  ΔE = -2.45407e-03\n",
      "E_new = -2.86166339  E_old = -2.86154402  ΔE = -1.19373e-04\n",
      "E_new = -2.86166924  E_old = -2.86166339  ΔE = -5.85480e-06\n",
      "E_new = -2.86166953  E_old = -2.86166924  ΔE = -2.87273e-07\n",
      "E_new = -2.86166955  E_old = -2.86166953  ΔE = -1.40957e-08\n",
      "E_new = -2.86166955  E_old = -2.86166955  ΔE = -6.91633e-10\n"
     ]
    }
   ],
   "source": [
    "state = State(S=S, H_core=H_core, R=R, P=P)\n",
    "E_old = energy(state)\n",
    "E_new = 0.0\n",
    "ΔE = Inf\n",
    "\n",
    "while abs(ΔE) > 1e-8\n",
    "    update!(state)\n",
    "    E_new = energy(state)\n",
    "    ΔE = E_new - E_old\n",
    "    @printf \"E_new = %.8f  E_old = %.8f  ΔE = %.5e\\n\" E_new E_old ΔE\n",
    "    E_old = E_new\n",
    "end\n"
   ]
  },
  {
   "attachments": {},
   "cell_type": "markdown",
   "metadata": {},
   "source": [
    "Final Energy: $\\mathrm{-2.86166955 \\; E_h}$"
   ]
  },
  {
   "cell_type": "markdown",
   "metadata": {},
   "source": []
  }
 ],
 "metadata": {
  "kernelspec": {
   "display_name": "Julia 1.6.5",
   "language": "julia",
   "name": "julia-1.6"
  },
  "language_info": {
   "file_extension": ".jl",
   "mimetype": "application/julia",
   "name": "julia",
   "version": "1.6.5"
  },
  "orig_nbformat": 4
 },
 "nbformat": 4,
 "nbformat_minor": 2
}
